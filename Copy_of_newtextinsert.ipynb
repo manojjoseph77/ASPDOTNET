{
  "nbformat": 4,
  "nbformat_minor": 0,
  "metadata": {
    "colab": {
      "provenance": [],
      "authorship_tag": "ABX9TyOJV0I5lcK0E6xlmppggH4o",
      "include_colab_link": true
    },
    "kernelspec": {
      "name": "python3",
      "display_name": "Python 3"
    },
    "language_info": {
      "name": "python"
    }
  },
  "cells": [
    {
      "cell_type": "markdown",
      "metadata": {
        "id": "view-in-github",
        "colab_type": "text"
      },
      "source": [
        "<a href=\"https://colab.research.google.com/github/manojjoseph77/ASPDOTNET/blob/main/Copy_of_newtextinsert.ipynb\" target=\"_parent\"><img src=\"https://colab.research.google.com/assets/colab-badge.svg\" alt=\"Open In Colab\"/></a>"
      ]
    },
    {
      "cell_type": "code",
      "execution_count": null,
      "metadata": {
        "colab": {
          "base_uri": "https://localhost:8080/"
        },
        "id": "rX1p0DqrtcHY",
        "outputId": "29e72628-6aec-4d93-bf4a-17b05150f067"
      },
      "outputs": [
        {
          "output_type": "stream",
          "name": "stdout",
          "text": [
            "Collecting pypdf2==1.26.0\n",
            "  Downloading PyPDF2-1.26.0.tar.gz (77 kB)\n",
            "\u001b[?25l     \u001b[90m━━━━━━━━━━━━━━━━━━━━━━━━━━━━━━━━━━━━━━━━\u001b[0m \u001b[32m0.0/77.6 kB\u001b[0m \u001b[31m?\u001b[0m eta \u001b[36m-:--:--\u001b[0m\r\u001b[2K     \u001b[90m━━━━━━━━━━━━━━━━━━━━━━━━━━━━━━━━━━━━━━━━\u001b[0m \u001b[32m77.6/77.6 kB\u001b[0m \u001b[31m2.4 MB/s\u001b[0m eta \u001b[36m0:00:00\u001b[0m\n",
            "\u001b[?25h  Preparing metadata (setup.py) ... \u001b[?25l\u001b[?25hdone\n",
            "Building wheels for collected packages: pypdf2\n",
            "  Building wheel for pypdf2 (setup.py) ... \u001b[?25l\u001b[?25hdone\n",
            "  Created wheel for pypdf2: filename=PyPDF2-1.26.0-py3-none-any.whl size=61081 sha256=96fa724c426682540b1a352601ce70682dfe3bcfd58c3ddb0a3c9e62ac0725c2\n",
            "  Stored in directory: /root/.cache/pip/wheels/3a/62/ec/b6dea0b680005e9a961a3b195adb5f550b9586e92d20aed01d\n",
            "Successfully built pypdf2\n",
            "Installing collected packages: pypdf2\n",
            "Successfully installed pypdf2-1.26.0\n"
          ]
        }
      ],
      "source": [
        "!pip install pypdf2==1.26.0"
      ]
    },
    {
      "cell_type": "code",
      "source": [
        "!pip install reportlab"
      ],
      "metadata": {
        "colab": {
          "base_uri": "https://localhost:8080/"
        },
        "id": "8cWmoV56vBGC",
        "outputId": "1f4f3f85-bfa5-4c82-8203-ebc88f307bab"
      },
      "execution_count": null,
      "outputs": [
        {
          "output_type": "stream",
          "name": "stdout",
          "text": [
            "Collecting reportlab\n",
            "  Using cached reportlab-4.0.5-py3-none-any.whl (1.9 MB)\n",
            "Requirement already satisfied: pillow>=9.0.0 in /usr/local/lib/python3.10/dist-packages (from reportlab) (9.4.0)\n",
            "Installing collected packages: reportlab\n",
            "Successfully installed reportlab-4.0.5\n"
          ]
        }
      ]
    },
    {
      "cell_type": "code",
      "source": [
        "import PyPDF2\n",
        "from reportlab.lib.pagesizes import letter\n",
        "from reportlab.pdfgen import canvas\n",
        "from io import BytesIO\n",
        "\n",
        "# Input PDF file path\n",
        "input_pdf_path = \"/content/merged.pdf\"\n",
        "\n",
        "# Output PDF file path\n",
        "output_pdf_path = \"/content/output.pdf\"\n",
        "\n",
        "# Text to insert\n",
        "text_to_insert = \"This is the text you want to insert into the PDF.\"\n",
        "custompage=1\n",
        "# Create a PDF writer object to write the modified content to a new PDF\n",
        "pdf_writer = PyPDF2.PdfFileWriter()\n",
        "\n",
        "# Open the input PDF and create a PDF reader object\n",
        "with open(input_pdf_path, 'rb') as pdf_file:\n",
        "    pdf_reader = PyPDF2.PdfFileReader(pdf_file)\n",
        "\n",
        "    # Iterate through each page of the input PDF\n",
        "    for page_num in range(pdf_reader.getNumPages()):\n",
        "        page = pdf_reader.getPage(page_num)\n",
        "\n",
        "        custompage=custompage+1\n",
        "        text_to_insert=\"Page \" + str(custompage) + \" of \" + str(pdf_reader.getNumPages()+1)\n",
        "        # Create a PDF canvas to add text\n",
        "        packet = BytesIO()\n",
        "        can = canvas.Canvas(packet, pagesize=letter)\n",
        "        # Set the font type and font size.\n",
        "        # canvas.setFont('Verdana', 10)\n",
        "        can.drawString(500, 50, text_to_insert)  # Adjust the coordinates as needed\n",
        "\n",
        "        # Save the canvas to the packet\n",
        "        can.save()\n",
        "\n",
        "        # Move to the beginning of the packet\n",
        "        packet.seek(0)\n",
        "        new_pdf = PyPDF2.PdfFileReader(packet)\n",
        "\n",
        "        # Merge the original PDF page with the new PDF page containing text\n",
        "        page.mergePage(new_pdf.getPage(0))\n",
        "\n",
        "        # Add the modified page to the PDF writer\n",
        "        pdf_writer.addPage(page)\n",
        "\n",
        "    # Write the modified PDF to a new file\n",
        "    with open(output_pdf_path, 'wb') as output_pdf:\n",
        "        pdf_writer.write(output_pdf)\n",
        "\n",
        "print(\"Text inserted into the PDF successfully.\")"
      ],
      "metadata": {
        "colab": {
          "base_uri": "https://localhost:8080/"
        },
        "id": "jUCqlu55vIag",
        "outputId": "1ceb19d1-e079-4be0-9182-03458d46612c"
      },
      "execution_count": null,
      "outputs": [
        {
          "output_type": "stream",
          "name": "stdout",
          "text": [
            "Text inserted into the PDF successfully.\n"
          ]
        }
      ]
    }
  ]
}